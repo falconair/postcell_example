{
 "cells": [
  {
   "cell_type": "code",
   "execution_count": null,
   "metadata": {},
   "outputs": [],
   "source": [
    "#!pip install --quiet postcell #only do this once per computer"
   ]
  },
  {
   "cell_type": "code",
   "execution_count": null,
   "metadata": {},
   "outputs": [],
   "source": [
    "#Load extension and register only once per notebook\n",
    "%reload_ext postcell\n",
    "\n",
    "#This line will find postcell.conf in current directory or any parent directories\n",
    "%postcell register \n",
    "\n",
    "# Alternative 1, when you want to load a specific file\n",
    "#%postcell register -config ..\\postcell_custom.conf\n",
    "\n",
    "# Alternative 2, when you don't want to deal with external files\n",
    "#%postcell register -student_id STUDENT_USER_NAME -instructor_id INSTRUCTOR_ID -class_id python_intro"
   ]
  },
  {
   "cell_type": "markdown",
   "metadata": {},
   "source": [
    "### Add numbers from 0 through 10"
   ]
  },
  {
   "cell_type": "code",
   "execution_count": null,
   "metadata": {},
   "outputs": [],
   "source": [
    "%%postcell PYTHON_EXERCISE1\n",
    "\n",
    "sum(range(10))"
   ]
  }
 ],
 "metadata": {
  "kernelspec": {
   "display_name": "Python 3",
   "language": "python",
   "name": "python3"
  },
  "language_info": {
   "codemirror_mode": {
    "name": "ipython",
    "version": 3
   },
   "file_extension": ".py",
   "mimetype": "text/x-python",
   "name": "python",
   "nbconvert_exporter": "python",
   "pygments_lexer": "ipython3",
   "version": "3.7.6"
  }
 },
 "nbformat": 4,
 "nbformat_minor": 4
}
